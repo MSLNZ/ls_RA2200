{
 "cells": [
  {
   "cell_type": "markdown",
   "metadata": {},
   "source": [
    "# Analysis of flick standard measurements\n",
    "May 2020  \n",
    "ID : 112-434-624 Length/2013/936    \n",
    "Flick calibrated on Movotelit as 2.46 $\\mu$m in diameter, U95 = 0.04 $\\mu$m  \n",
    "\n",
    "The flick standard flat is \\~0.44 mm wide on a circumference of \\~59.7 mm. (Use the lens sag formula) This is a ratio of \\~136. So need a filter cut off of at least 274. At 7200 points per trace there should be \\~52 points on flat. The 0.8 mm ball should see this no problem, as the shape is always convex.\n",
    "\n",
    "\n"
   ]
  },
  {
   "cell_type": "code",
   "execution_count": 1,
   "metadata": {},
   "outputs": [],
   "source": [
    "%load_ext autoreload\n",
    "%autoreload 2"
   ]
  },
  {
   "cell_type": "code",
   "execution_count": 1,
   "metadata": {},
   "outputs": [],
   "source": [
    "import glob\n",
    "import os\n",
    "\n",
    "import pandas as pd\n",
    "import config\n",
    "from roundness.processing.read_roundpak import read_result_list"
   ]
  },
  {
   "cell_type": "code",
   "execution_count": 3,
   "metadata": {},
   "outputs": [
    {
     "output_type": "execute_result",
     "data": {
      "text/plain": "['c:\\\\Users\\\\e.howick\\\\gits\\\\ls_RA2200\\\\flick_stds_2020-05\\\\data\\\\raw\\\\verrification\\\\20200513T1511_FS.txt',\n 'c:\\\\Users\\\\e.howick\\\\gits\\\\ls_RA2200\\\\flick_stds_2020-05\\\\data\\\\raw\\\\verrification\\\\20200513T1512_FS.txt',\n 'c:\\\\Users\\\\e.howick\\\\gits\\\\ls_RA2200\\\\flick_stds_2020-05\\\\data\\\\raw\\\\verrification\\\\20200513T1641_FS.txt',\n 'c:\\\\Users\\\\e.howick\\\\gits\\\\ls_RA2200\\\\flick_stds_2020-05\\\\data\\\\raw\\\\verrification\\\\20200514T1145_FS.txt',\n 'c:\\\\Users\\\\e.howick\\\\gits\\\\ls_RA2200\\\\flick_stds_2020-05\\\\data\\\\raw\\\\verrification\\\\20200514T1148_FS.txt',\n 'c:\\\\Users\\\\e.howick\\\\gits\\\\ls_RA2200\\\\flick_stds_2020-05\\\\data\\\\raw\\\\verrification\\\\20200514T1150_FS.txt',\n 'c:\\\\Users\\\\e.howick\\\\gits\\\\ls_RA2200\\\\flick_stds_2020-05\\\\data\\\\raw\\\\verrification\\\\20200514T1151_FS.txt',\n 'c:\\\\Users\\\\e.howick\\\\gits\\\\ls_RA2200\\\\flick_stds_2020-05\\\\data\\\\raw\\\\verrification\\\\20200514T1203_FS.txt',\n 'c:\\\\Users\\\\e.howick\\\\gits\\\\ls_RA2200\\\\flick_stds_2020-05\\\\data\\\\raw\\\\verrification\\\\20200514T1254_FS.txt',\n 'c:\\\\Users\\\\e.howick\\\\gits\\\\ls_RA2200\\\\flick_stds_2020-05\\\\data\\\\raw\\\\verrification\\\\20200514T1531_FS.txt',\n 'c:\\\\Users\\\\e.howick\\\\gits\\\\ls_RA2200\\\\flick_stds_2020-05\\\\data\\\\raw\\\\verrification\\\\20200514T1537_FS.txt',\n 'c:\\\\Users\\\\e.howick\\\\gits\\\\ls_RA2200\\\\flick_stds_2020-05\\\\data\\\\raw\\\\verrification\\\\20200514T1541_FS.txt',\n 'c:\\\\Users\\\\e.howick\\\\gits\\\\ls_RA2200\\\\flick_stds_2020-05\\\\data\\\\raw\\\\verrification\\\\20200514T1548_FS.txt',\n 'c:\\\\Users\\\\e.howick\\\\gits\\\\ls_RA2200\\\\flick_stds_2020-05\\\\data\\\\raw\\\\verrification\\\\20200514T1550_FS.txt']"
     },
     "metadata": {},
     "execution_count": 3
    }
   ],
   "source": [
    "path = os.path.join(config.DATA_RAW, \"verrification\")\n",
    "fns = glob.glob(os.path.join(path, '*_FS.txt'))\n",
    "fns"
   ]
  },
  {
   "cell_type": "code",
   "execution_count": 4,
   "metadata": {},
   "outputs": [
    {
     "output_type": "execute_result",
     "data": {
      "text/plain": "        Parameter LSCI  Roundness(RONt)     DX     DY     DL      DA  \\\n0  2020-05-13 15:11:00            2.267 -0.014 -0.292  0.292  267.18   \n0  2020-05-13 15:12:00            0.973 -0.744  1.891  2.032  111.49   \n0  2020-05-13 16:41:00            2.581 -0.732  2.357  2.468  107.24   \n0  2020-05-14 11:45:00            2.635 -0.651  2.408  2.495  105.12   \n0  2020-05-14 11:48:00            2.590 -0.646  2.432  2.516  104.87   \n0  2020-05-14 11:50:00            2.623 -0.647  2.423  2.507  104.95   \n0  2020-05-14 11:51:00            2.591 -0.642  2.437  2.520  104.77   \n0  2020-05-14 12:03:00            2.599 -0.644  2.429  2.513  104.85   \n0  2020-05-14 12:54:00            2.574 -0.614  2.458  2.533  104.03   \n0  2020-05-14 15:31:00            2.598 -0.639  2.426  2.509  104.76   \n0  2020-05-14 15:37:00            2.573 -0.639  2.440  2.522  104.67   \n0  2020-05-14 15:41:00            2.570 -0.635  2.437  2.518  104.61   \n0  2020-05-14 15:48:00            2.692 -0.492  2.035  2.094  103.60   \n0  2020-05-14 15:50:00            2.612 -0.493  2.024  2.083  103.70   \n\n   Peak(RONp)  Valley(RONv)  Peak Count  Mean Roundness  \n0       1.449         0.818          14           0.357  \n0       0.092         0.880          12           0.028  \n0       0.129         2.452         106           0.039  \n0       0.151         2.483         100           0.038  \n0       0.124         2.466         116           0.038  \n0       0.139         2.485         109           0.038  \n0       0.117         2.475         107           0.039  \n0       0.126         2.474          96           0.038  \n0       0.106         2.468         114           0.038  \n0       0.120         2.478         101           0.038  \n0       0.107         2.466          98           0.038  \n0       0.103         2.467         114           0.038  \n0       0.194         2.497         114           0.037  \n0       0.118         2.494         114           0.036  ",
      "text/html": "<div>\n<style scoped>\n    .dataframe tbody tr th:only-of-type {\n        vertical-align: middle;\n    }\n\n    .dataframe tbody tr th {\n        vertical-align: top;\n    }\n\n    .dataframe thead th {\n        text-align: right;\n    }\n</style>\n<table border=\"1\" class=\"dataframe\">\n  <thead>\n    <tr style=\"text-align: right;\">\n      <th></th>\n      <th>Parameter LSCI</th>\n      <th>Roundness(RONt)</th>\n      <th>DX</th>\n      <th>DY</th>\n      <th>DL</th>\n      <th>DA</th>\n      <th>Peak(RONp)</th>\n      <th>Valley(RONv)</th>\n      <th>Peak Count</th>\n      <th>Mean Roundness</th>\n    </tr>\n  </thead>\n  <tbody>\n    <tr>\n      <th>0</th>\n      <td>2020-05-13 15:11:00</td>\n      <td>2.267</td>\n      <td>-0.014</td>\n      <td>-0.292</td>\n      <td>0.292</td>\n      <td>267.18</td>\n      <td>1.449</td>\n      <td>0.818</td>\n      <td>14</td>\n      <td>0.357</td>\n    </tr>\n    <tr>\n      <th>0</th>\n      <td>2020-05-13 15:12:00</td>\n      <td>0.973</td>\n      <td>-0.744</td>\n      <td>1.891</td>\n      <td>2.032</td>\n      <td>111.49</td>\n      <td>0.092</td>\n      <td>0.880</td>\n      <td>12</td>\n      <td>0.028</td>\n    </tr>\n    <tr>\n      <th>0</th>\n      <td>2020-05-13 16:41:00</td>\n      <td>2.581</td>\n      <td>-0.732</td>\n      <td>2.357</td>\n      <td>2.468</td>\n      <td>107.24</td>\n      <td>0.129</td>\n      <td>2.452</td>\n      <td>106</td>\n      <td>0.039</td>\n    </tr>\n    <tr>\n      <th>0</th>\n      <td>2020-05-14 11:45:00</td>\n      <td>2.635</td>\n      <td>-0.651</td>\n      <td>2.408</td>\n      <td>2.495</td>\n      <td>105.12</td>\n      <td>0.151</td>\n      <td>2.483</td>\n      <td>100</td>\n      <td>0.038</td>\n    </tr>\n    <tr>\n      <th>0</th>\n      <td>2020-05-14 11:48:00</td>\n      <td>2.590</td>\n      <td>-0.646</td>\n      <td>2.432</td>\n      <td>2.516</td>\n      <td>104.87</td>\n      <td>0.124</td>\n      <td>2.466</td>\n      <td>116</td>\n      <td>0.038</td>\n    </tr>\n    <tr>\n      <th>0</th>\n      <td>2020-05-14 11:50:00</td>\n      <td>2.623</td>\n      <td>-0.647</td>\n      <td>2.423</td>\n      <td>2.507</td>\n      <td>104.95</td>\n      <td>0.139</td>\n      <td>2.485</td>\n      <td>109</td>\n      <td>0.038</td>\n    </tr>\n    <tr>\n      <th>0</th>\n      <td>2020-05-14 11:51:00</td>\n      <td>2.591</td>\n      <td>-0.642</td>\n      <td>2.437</td>\n      <td>2.520</td>\n      <td>104.77</td>\n      <td>0.117</td>\n      <td>2.475</td>\n      <td>107</td>\n      <td>0.039</td>\n    </tr>\n    <tr>\n      <th>0</th>\n      <td>2020-05-14 12:03:00</td>\n      <td>2.599</td>\n      <td>-0.644</td>\n      <td>2.429</td>\n      <td>2.513</td>\n      <td>104.85</td>\n      <td>0.126</td>\n      <td>2.474</td>\n      <td>96</td>\n      <td>0.038</td>\n    </tr>\n    <tr>\n      <th>0</th>\n      <td>2020-05-14 12:54:00</td>\n      <td>2.574</td>\n      <td>-0.614</td>\n      <td>2.458</td>\n      <td>2.533</td>\n      <td>104.03</td>\n      <td>0.106</td>\n      <td>2.468</td>\n      <td>114</td>\n      <td>0.038</td>\n    </tr>\n    <tr>\n      <th>0</th>\n      <td>2020-05-14 15:31:00</td>\n      <td>2.598</td>\n      <td>-0.639</td>\n      <td>2.426</td>\n      <td>2.509</td>\n      <td>104.76</td>\n      <td>0.120</td>\n      <td>2.478</td>\n      <td>101</td>\n      <td>0.038</td>\n    </tr>\n    <tr>\n      <th>0</th>\n      <td>2020-05-14 15:37:00</td>\n      <td>2.573</td>\n      <td>-0.639</td>\n      <td>2.440</td>\n      <td>2.522</td>\n      <td>104.67</td>\n      <td>0.107</td>\n      <td>2.466</td>\n      <td>98</td>\n      <td>0.038</td>\n    </tr>\n    <tr>\n      <th>0</th>\n      <td>2020-05-14 15:41:00</td>\n      <td>2.570</td>\n      <td>-0.635</td>\n      <td>2.437</td>\n      <td>2.518</td>\n      <td>104.61</td>\n      <td>0.103</td>\n      <td>2.467</td>\n      <td>114</td>\n      <td>0.038</td>\n    </tr>\n    <tr>\n      <th>0</th>\n      <td>2020-05-14 15:48:00</td>\n      <td>2.692</td>\n      <td>-0.492</td>\n      <td>2.035</td>\n      <td>2.094</td>\n      <td>103.60</td>\n      <td>0.194</td>\n      <td>2.497</td>\n      <td>114</td>\n      <td>0.037</td>\n    </tr>\n    <tr>\n      <th>0</th>\n      <td>2020-05-14 15:50:00</td>\n      <td>2.612</td>\n      <td>-0.493</td>\n      <td>2.024</td>\n      <td>2.083</td>\n      <td>103.70</td>\n      <td>0.118</td>\n      <td>2.494</td>\n      <td>114</td>\n      <td>0.036</td>\n    </tr>\n  </tbody>\n</table>\n</div>"
     },
     "metadata": {},
     "execution_count": 4
    }
   ],
   "source": [
    "ids = [pd.to_datetime(os.path.split(fname)[1][:13]) for fname in fns]\n",
    "df = read_result_list(fns, ids)\n",
    "df"
   ]
  },
  {
   "cell_type": "markdown",
   "metadata": {},
   "source": [
    "The first two above look significantly different from the others"
   ]
  },
  {
   "cell_type": "code",
   "execution_count": 5,
   "metadata": {},
   "outputs": [
    {
     "output_type": "execute_result",
     "data": {
      "text/plain": "       Roundness(RONt)         DX         DY         DL          DA  \\\ncount        12.000000  12.000000  12.000000  12.000000   12.000000   \nmean          2.603167  -0.622833   2.358833   2.439833  104.764167   \nstd           0.034501   0.066994   0.155782   0.164920    0.922885   \nmin           2.570000  -0.732000   2.024000   2.083000  103.600000   \n25%           2.579250  -0.646250   2.395250   2.488250  104.465000   \n50%           2.594500  -0.640500   2.427500   2.511000  104.765000   \n75%           2.614750  -0.629750   2.437000   2.518500  104.890000   \nmax           2.692000  -0.492000   2.458000   2.533000  107.240000   \n\n       Peak(RONp)  Valley(RONv)  Peak Count  Mean Roundness  \ncount   12.000000     12.000000   12.000000       12.000000  \nmean     0.127833      2.475417  107.416667        0.037917  \nstd      0.024976      0.012866    7.178989        0.000793  \nmin      0.103000      2.452000   96.000000        0.036000  \n25%      0.114500      2.466750  100.750000        0.038000  \n50%      0.122000      2.474500  108.000000        0.038000  \n75%      0.131500      2.483500  114.000000        0.038000  \nmax      0.194000      2.497000  116.000000        0.039000  ",
      "text/html": "<div>\n<style scoped>\n    .dataframe tbody tr th:only-of-type {\n        vertical-align: middle;\n    }\n\n    .dataframe tbody tr th {\n        vertical-align: top;\n    }\n\n    .dataframe thead th {\n        text-align: right;\n    }\n</style>\n<table border=\"1\" class=\"dataframe\">\n  <thead>\n    <tr style=\"text-align: right;\">\n      <th></th>\n      <th>Roundness(RONt)</th>\n      <th>DX</th>\n      <th>DY</th>\n      <th>DL</th>\n      <th>DA</th>\n      <th>Peak(RONp)</th>\n      <th>Valley(RONv)</th>\n      <th>Peak Count</th>\n      <th>Mean Roundness</th>\n    </tr>\n  </thead>\n  <tbody>\n    <tr>\n      <th>count</th>\n      <td>12.000000</td>\n      <td>12.000000</td>\n      <td>12.000000</td>\n      <td>12.000000</td>\n      <td>12.000000</td>\n      <td>12.000000</td>\n      <td>12.000000</td>\n      <td>12.000000</td>\n      <td>12.000000</td>\n    </tr>\n    <tr>\n      <th>mean</th>\n      <td>2.603167</td>\n      <td>-0.622833</td>\n      <td>2.358833</td>\n      <td>2.439833</td>\n      <td>104.764167</td>\n      <td>0.127833</td>\n      <td>2.475417</td>\n      <td>107.416667</td>\n      <td>0.037917</td>\n    </tr>\n    <tr>\n      <th>std</th>\n      <td>0.034501</td>\n      <td>0.066994</td>\n      <td>0.155782</td>\n      <td>0.164920</td>\n      <td>0.922885</td>\n      <td>0.024976</td>\n      <td>0.012866</td>\n      <td>7.178989</td>\n      <td>0.000793</td>\n    </tr>\n    <tr>\n      <th>min</th>\n      <td>2.570000</td>\n      <td>-0.732000</td>\n      <td>2.024000</td>\n      <td>2.083000</td>\n      <td>103.600000</td>\n      <td>0.103000</td>\n      <td>2.452000</td>\n      <td>96.000000</td>\n      <td>0.036000</td>\n    </tr>\n    <tr>\n      <th>25%</th>\n      <td>2.579250</td>\n      <td>-0.646250</td>\n      <td>2.395250</td>\n      <td>2.488250</td>\n      <td>104.465000</td>\n      <td>0.114500</td>\n      <td>2.466750</td>\n      <td>100.750000</td>\n      <td>0.038000</td>\n    </tr>\n    <tr>\n      <th>50%</th>\n      <td>2.594500</td>\n      <td>-0.640500</td>\n      <td>2.427500</td>\n      <td>2.511000</td>\n      <td>104.765000</td>\n      <td>0.122000</td>\n      <td>2.474500</td>\n      <td>108.000000</td>\n      <td>0.038000</td>\n    </tr>\n    <tr>\n      <th>75%</th>\n      <td>2.614750</td>\n      <td>-0.629750</td>\n      <td>2.437000</td>\n      <td>2.518500</td>\n      <td>104.890000</td>\n      <td>0.131500</td>\n      <td>2.483500</td>\n      <td>114.000000</td>\n      <td>0.038000</td>\n    </tr>\n    <tr>\n      <th>max</th>\n      <td>2.692000</td>\n      <td>-0.492000</td>\n      <td>2.458000</td>\n      <td>2.533000</td>\n      <td>107.240000</td>\n      <td>0.194000</td>\n      <td>2.497000</td>\n      <td>116.000000</td>\n      <td>0.039000</td>\n    </tr>\n  </tbody>\n</table>\n</div>"
     },
     "metadata": {},
     "execution_count": 5
    }
   ],
   "source": [
    "df.iloc[2:, :].describe()"
   ]
  },
  {
   "cell_type": "markdown",
   "metadata": {},
   "source": [
    "The Valley(RONv) parmeter has less spread the the other roundness parmeters. It also closer to the flick standard movotelit calibration value. (2.46 µm u95 = 0.04 µm) roundness U95 = 0.05 µm\n",
    "\n",
    "Description of parameter from ISO 12181:2007  \n",
    "**RONv** - reference-to-valley roundness deviation  \n",
    "\"absolute value of the largest negative local roundness sdeviation from the least squares reference circle\""
   ]
  },
  {
   "cell_type": "code",
   "execution_count": null,
   "metadata": {},
   "outputs": [],
   "source": []
  }
 ],
 "metadata": {
  "language_info": {
   "codemirror_mode": {
    "name": "ipython",
    "version": 3
   },
   "file_extension": ".py",
   "mimetype": "text/x-python",
   "name": "python",
   "nbconvert_exporter": "python",
   "pygments_lexer": "ipython3",
   "version": "3.7.7"
  },
  "orig_nbformat": 2,
  "kernelspec": {
   "name": "python37764bitroundnesscondabd74715aea5441899eb07b2a93d6b190",
   "display_name": "Python 3.7.7 64-bit ('roundness': conda)"
  },
  "metadata": {
   "interpreter": {
    "hash": "a38e5790ead2236acb41d30fae208cc71d8da685e97589dc55e162b73eaa6096"
   }
  }
 },
 "nbformat": 4,
 "nbformat_minor": 2
}